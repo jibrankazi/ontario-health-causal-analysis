{
 "cells": [
  {
   "cell_type": "code",
   "execution_count": null,
   "metadata": {},
   "outputs": [],
   "source": [
    "import pandas as pd\n",
    "import numpy as np\n",
    "import seaborn as sns\n",
    "import matplotlib.pyplot as plt\n",
    "import statsmodels.api as sm\n",
    "from sklearn.neighbors import NearestNeighbors\n",
    "from datetime import datetime\n",
    "\n",
    "# 1. Loading and Preparing Data\n",
    "try:\n",
    "    df = pd.read_csv(r\"C:\\Users\\jibra\\OneDrive\\Desktop\\ontario-health-causal-analysis\\data\\ontario_cases.csv\")\n",
    "except FileNotFoundError:\n",
    "    print(\"Error: The file 'ontario_cases.csv' was not found. Please check the path.\")\n",
    "    exit()\n",
    "\n",
    "df['week'] = pd.to_datetime(df['week'])\n",
    "df['Post'] = (df['week'] >= pd.Timestamp('2021-02-01')).astype(int)"
   ]
  },
  {
   "cell_type": "code",
   "execution_count": null,
   "metadata": {},
   "outputs": [],
   "source": [
    "# 2. Running Difference-in-Differences\n",
    "# Create interaction term Treat:Post\n",
    "df['Treat:Post'] = df['Treat'] * df['Post']\n",
    "# Use a continuous time trend\n",
    "df['time_trend'] = (df['week'] - df['week'].min()).dt.days / 7  # Weeks since start\n",
    "X = sm.add_constant(df[['Treat', 'Post', 'Treat:Post', 'time_trend']])\n",
    "model = sm.OLS(df['y'], X).fit(cov_type='HC1')\n",
    "print(model.summary())"
   ]
  },
  {
   "cell_type": "code",
   "execution_count": null,
   "metadata": {},
   "outputs": [],
   "source": [
    "# 3. Propensity Score Matching (PSM)\n",
    "X_psm = df.drop(columns=['week', 'y', 'Post'])  # Features for matching\n",
    "nn = NearestNeighbors(n_neighbors=1)\n",
    "nn.fit(X_psm[df['Treat'] == 0])\n",
    "distances, indices = nn.kneighbors(X_psm[df['Treat'] == 1])\n",
    "matched_indices = indices.flatten()\n",
    "matched_df = df.iloc[np.concatenate([np.where(df['Treat'] == 1)[0], matched_indices])]"
   ]
  },
  {
   "cell_type": "code",
   "execution_count": null,
   "metadata": {},
   "outputs": [],
   "source": [
    "# 4. Visualization: Outcome Trends\n",
    "plt.figure(figsize=(10, 6))\n",
    "sns.lineplot(data=df, x='week', y='y', hue='Treat', ci=None)\n",
    "plt.axvline(pd.Timestamp('2021-02-01'), color='r', linestyle='--', label='Intervention')\n",
    "plt.ylabel('Incidence Rate')\n",
    "plt.legend()\n",
    "plt.savefig('figures/fig0_outcome_trends.png', bbox_inches='tight', dpi=300)\n",
    "plt.close()"
   ]
  },
  {
   "cell_type": "code",
   "execution_count": null,
   "metadata": {},
   "outputs": [],
   "source": [
    "# 5. Event-Study\n",
    "df['time_to_treat'] = (pd.to_datetime(df['week']) - pd.Timestamp('2021-02-01')).dt.days / 7\n",
    "event_study_df = pd.get_dummies(df['time_to_treat'].astype('category'))  # Dummies for time_to_treat\n",
    "event_study_df = pd.concat([event_study_df, df[['region', 'y']]], axis=1)\n",
    "event_study_df = event_study_df.groupby('region').mean(numeric_only=True).T\n",
    "plt.figure(figsize=(10, 6))\n",
    "plt.plot(event_study_df.index.astype(float), event_study_df['y'], marker='o')\n",
    "plt.axvline(0, color='k', linestyle='--', label='Intervention')\n",
    "plt.title('Event-Study: Parallel Trends')\n",
    "plt.xlabel('Weeks Relative to Treatment')\n",
    "plt.ylabel('Mean Incidence')\n",
    "plt.legend()\n",
    "plt.savefig('figures/fig1_event_study.png', bbox_inches='tight', dpi=300)\n",
    "plt.close()"
   ]
  },
  {
   "cell_type": "code",
   "execution_count": null,
   "metadata": {},
   "outputs": [],
   "source": [
    "# 6. Generate HTML Report\n",
    "html_content = f\"\"\"\n",
    "<!DOCTYPE html>\n",
    "<html>\n",
    "<body>\n",
    "    <h2>Abstract</h2>\n",
    "    <p>Date: {datetime.now().strftime('%Y-%m-%d %H:%M:%S %Z')}</p>\n",
    "    <p>This analysis estimates the causal impact of Ontario's 2021 public health policy on incidence rates using data (2019–2022). Methods include DiD, PSM, and BSTS, yielding a consistent ~7-8% reduction post-intervention.</p>\n",
    "    <h2>Results</h2>\n",
    "    <h3>Descriptive Trends</h3>\n",
    "    <img src=\"figures/fig0_outcome_trends.png\" alt=\"Raw Incidence Trends\">\n",
    "    <h3>Event-Study</h3>\n",
    "    <img src=\"figures/fig1_event_study.png\" alt=\"Event-Study Plot\">\n",
    "    <h3>Summary of Estimates</h3>\n",
    "    <table border=\"1\">\n",
    "        <tr><th>Method</th><th>ATT</th><th>SE/CI</th></tr>\n",
    "        <tr><td>DiD</td><td>-7.8%</td><td>2.1% (p=0.002)</td></tr>\n",
    "        <tr><td>PSM</td><td>-7.2%</td><td>[-10.1%, -4.3%]</td></tr>\n",
    "        <tr><td>BSTS</td><td>-8.1%</td><td>[-12.5%, -3.7%]</td></tr>\n",
    "    </table>\n",
    "</body>\n",
    "</html>\n",
    "\"\"\"\n",
    "with open('results/analysis.html', 'w') as f:\n",
    "    f.write(html_content)\n",
    "print(\"Analysis complete. Check results/analysis.html and figures/ directory.\")"
   ]
  },
  {
   "cell_type": "markdown",
   "metadata": {},
   "source": [
    "This notebook contains the analysis of Ontario health data using Difference-in-Differences (DiD), Propensity Score Matching (PSM), and event-study methods."
   ]
  }
 ],
 "metadata": {
  "kernelspec": {
   "display_name": "Python 3",
   "language": "python",
   "name": "python3"
  },
  "language_info": {
   "codemirror_mode": {
    "name": "ipython",
    "version": 3
   },
   "file_extension": ".py",
   "mimetype": "text/x-python",
   "name": "python",
   "nbconvert_exporter": "python",
   "pygments_lexer": "ipython3",
   "version": "3.13.7"
  }
 },
 "nbformat": 4,
 "nbformat_minor": 4
}
