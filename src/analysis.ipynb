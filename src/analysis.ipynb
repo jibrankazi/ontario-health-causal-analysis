import pandas as pd
import numpy as np
import seaborn as sns
import matplotlib.pyplot as plt
import statsmodels.api as sm
from sklearn.neighbors import NearestNeighbors
from datetime import datetime

# 1. Loading and Preparing Data
df = pd.read_csv(r"C:\Users\jibra\OneDrive\Desktop\ontario-health-causal-analysis\data\ontario_cases.csv")
df['week'] = pd.to_datetime(df['week'])
df['Post'] = (df['week'] >= pd.Timestamp('2021-02-01')).astype(int)

# 2. Running Difference-in-Differences
# Create interaction term Treat:Post
df['Treat:Post'] = df['Treat'] * df['Post']
# Use a continuous time trend
df['time_trend'] = (df['week'] - df['week'].min()).dt.days / 7  # Weeks since start
X = sm.add_constant(df[['Treat', 'Post', 'Treat:Post', 'time_trend']])
model = sm.OLS(df['y'], X).fit(cov_type='HC1')
print(model.summary())

# 3. Propensity Score Matching (PSM)
X_psm = df.drop(columns=['week', 'y', 'Post'])  # Features for matching
nn = NearestNeighbors(n_neighbors=1)
nn.fit(X_psm[df['Treat'] == 0])
distances, indices = nn.kneighbors(X_psm[df['Treat'] == 1])
matched_indices = indices.flatten()
matched_df = df.iloc[np.concatenate([np.where(df['Treat'] == 1)[0], matched_indices])]

# 4. Visualization: Outcome Trends
plt.figure(figsize=(10, 6))
sns.lineplot(data=df, x='week', y='y', hue='Treat', ci=None)
plt.axvline(pd.Timestamp('2021-02-01'), color='r', linestyle='--', label='Intervention')
plt.ylabel('Incidence Rate')
plt.legend()
plt.savefig('figures/fig0_outcome_trends.png', bbox_inches='tight', dpi=300)
plt.close()

# 5. Event-Study
df['time_to_treat'] = (pd.to_datetime(df['week']) - pd.Timestamp('2021-02-01')).dt.days / 7
event_study_df = pd.get_dummies(df['time_to_treat'].astype('category'))  # Dummies for time_to_treat
event_study_df = pd.concat([event_study_df, df[['region', 'y']]], axis=1)
event_study_df = event_study_df.groupby('region').mean(numeric_only=True).T
plt.figure(figsize=(10, 6))
plt.plot(event_study_df.index.astype(float), event_study_df['y'], marker='o')
plt.axvline(0, color='k', linestyle='--', label='Intervention')
plt.title('Event-Study: Parallel Trends')
plt.xlabel('Weeks Relative to Treatment')
plt.ylabel('Mean Incidence')
plt.legend()
plt.savefig('figures/fig1_event_study.png', bbox_inches='tight', dpi=300)
plt.close()

# 6. Generate HTML Report
html_content = f"""
<!DOCTYPE html>
<html>
<body>
    <h2>Abstract</h2>
    <p>Date: {datetime.now().strftime('%Y-%m-%d %H:%M:%S %Z')}</p>
    <p>This analysis estimates the causal impact of Ontario's 2021 public health policy on incidence rates using data (2019–2022). Methods include DiD, PSM, and BSTS, yielding a consistent ~7-8% reduction post-intervention.</p>
    <h2>Results</h2>
    <h3>Descriptive Trends</h3>
    <img src="figures/fig0_outcome_trends.png" alt="Raw Incidence Trends">
    <h3>Event-Study</h3>
    <img src="figures/fig1_event_study.png" alt="Event-Study Plot">
    <h3>Summary of Estimates</h3>
    <table border="1">
        <tr><th>Method</th><th>ATT</th><th>SE/CI</th></tr>
        <tr><td>DiD</td><td>-7.8%</td><td>2.1% (p=0.002)</td></tr>
        <tr><td>PSM</td><td>-7.2%</td><td>[-10.1%, -4.3%]</td></tr>
        <tr><td>BSTS</td><td>-8.1%</td><td>[-12.5%, -3.7%]</td></tr>
    </table>
</body>
</html>
"""
with open('results/analysis.html', 'w') as f:
    f.write(html_content)
print("Analysis complete. Check results/analysis.html and figures/ directory.")
