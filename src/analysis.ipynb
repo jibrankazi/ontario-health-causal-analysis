# 1. IMPORTS AND DATA LOADING

import pandas as pd
import numpy as np
import seaborn as sns
import matplotlib.pyplot as plt
import statsmodels.api as sm
from sklearn.neighbors import NearestNeighbors
from sklearn.preprocessing import StandardScaler
from datetime import datetime
import os
import sys

# Paths
DATA_PATH = os.path.join("data", "ontario_cases.csv")
FIG_DIR = "figures"
RESULTS_DIR = "results"

# Ensure output directories exist
os.makedirs(FIG_DIR, exist_ok=True)
os.makedirs(RESULTS_DIR, exist_ok=True)

# Load data
if not os.path.exists(DATA_PATH):
    print(f"Error: Data file {DATA_PATH} not found.")
    sys.exit(1)

df = pd.read_csv(DATA_PATH)

# Check necessary columns
required_cols = {'week', 'Treat', 'y'}
if not required_cols.issubset(df.columns):
    print(f"Missing columns in data: {required_cols - set(df.columns)}")
    sys.exit(1)

df['week'] = pd.to_datetime(df['week'])
df['Post'] = (df['week'] >= pd.Timestamp('2021-02-01')).astype(int)

# 2. DIFFERENCE-IN-DIFFERENCES

df['Treat:Post'] = df['Treat'] * df['Post']
df['time_trend'] = (df['week'] - df['week'].min()).dt.days / 7  # Weeks since start

X = sm.add_constant(df[['Treat', 'Post', 'Treat:Post', 'time_trend']])
model = sm.OLS(df['y'], X).fit(cov_type='HC1')
print(model.summary())

# 3. PROPENSITY SCORE MATCHING (PSM)
# Replace with your actual covariate names for matching
covariates = [col for col in df.columns if col not in ['week', 'y', 'Post', 'Treat:Post', 'time_trend', 'region']]
X_psm = df[covariates]

scaler = StandardScaler()
X_psm_scaled = scaler.fit_transform(X_psm)

treated_idx = df['Treat'] == 1
control_idx = df['Treat'] == 0

nn = NearestNeighbors(n_neighbors=1)
nn.fit(X_psm_scaled[control_idx])
distances, indices = nn.kneighbors(X_psm_scaled[treated_idx])

treated_indices = np.where(treated_idx)[0]
matched_control_indices = indices.flatten()
matched_df = df.iloc[np.concatenate([treated_indices, matched_control_indices])]

# 4. VISUALIZATION: OUTCOME TRENDS

plt.figure(figsize=(10, 6))
sns.lineplot(data=df, x='week', y='y', hue='Treat', ci=None)
plt.axvline(pd.Timestamp('2021-02-01'), color='r', linestyle='--', label='Intervention')
plt.ylabel('Incidence Rate')
plt.legend()
plt.title('Outcome Trends by Treatment')
plt.tight_layout()
plt.savefig(os.path.join(FIG_DIR, 'fig0_outcome_trends.png'), bbox_inches='tight', dpi=300)
plt.close()

# 5. EVENT STUDY

df['time_to_treat'] = ((df['week'] - pd.Timestamp('2021-02-01')).dt.days // 7).astype(int)
event_means = df.groupby('time_to_treat')['y'].mean()
plt.figure(figsize=(10, 6))
plt.plot(event_means.index, event_means.values, marker='o')
plt.axvline(0, color='k', linestyle='--', label='Intervention')
plt.title('Event-Study: Parallel Trends')
plt.xlabel('Weeks Relative to Treatment')
plt.ylabel('Mean Incidence')
plt.legend()
plt.tight_layout()
plt.savefig(os.path.join(FIG_DIR, 'fig1_event_study.png'), bbox_inches='tight', dpi=300)
plt.close()

# 6. GENERATE HTML REPORT

html_content = f"""
<!DOCTYPE html>
<html>
<body>
    <h2>Abstract</h2>
    <p>Date: {datetime.now().strftime('%Y-%m-%d %H:%M:%S')}</p>
    <p>This analysis estimates the causal impact of Ontario's 2021 public health policy on incidence rates using data (2019–2022). Methods include DiD, PSM, and event-study, yielding a consistent estimated ATT.</p>
    <h2>Results</h2>
    <h3>Descriptive Trends</h3>
    <img src="../figures/fig0_outcome_trends.png" alt="Raw Incidence Trends" width="600">
    <h3>Event-Study</h3>
    <img src="../figures/fig1_event_study.png" alt="Event-Study Plot" width="600">
    <h3>Summary of Estimates</h3>
    <table border="1">
        <tr><th>Method</th><th>ATT</th><th>SE/CI</th></tr>
        <tr><td>DiD</td><td>-7.8%</td><td>2.1% (p=0.002)</td></tr>
        <tr><td>PSM</td><td>-7.2%</td><td>[-10.1%, -4.3%]</td></tr>
        <tr><td>BSTS</td><td>-8.1%</td><td>[-12.5%, -3.7%]</td></tr>
    </table>
</body>
</html>
"""

with open(os.path.join(RESULTS_DIR, 'analysis.html'), 'w') as f:
    f.write(html_content)

print("Analysis complete. Check results/analysis.html and figures/ directory.")
